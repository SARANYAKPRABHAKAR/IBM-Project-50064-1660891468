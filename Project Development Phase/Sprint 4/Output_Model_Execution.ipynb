{
  "nbformat": 4,
  "nbformat_minor": 0,
  "metadata": {
    "colab": {
      "provenance": []
    },
    "kernelspec": {
      "name": "python3",
      "display_name": "Python 3"
    },
    "language_info": {
      "name": "python"
    }
  },
  "cells": [
    {
      "cell_type": "markdown",
      "source": [
        "Image Preprocessing"
      ],
      "metadata": {
        "id": "hv9D57t1ha8X"
      }
    },
    {
      "cell_type": "code",
      "source": [
        "from tensorflow.keras.preprocessing.image import ImageDataGenerator"
      ],
      "metadata": {
        "id": "_38t3UYrhdMU"
      },
      "execution_count": null,
      "outputs": []
    },
    {
      "cell_type": "code",
      "source": [
        "train_datagen=ImageDataGenerator(rescale=1./255,horizontal_flip=True,vertical_flip=True,zoom_range=0.2)"
      ],
      "metadata": {
        "id": "X4JbqWmGhdlG"
      },
      "execution_count": null,
      "outputs": []
    },
    {
      "cell_type": "code",
      "source": [
        "test_datagen=ImageDataGenerator(rescale=1./255)"
      ],
      "metadata": {
        "id": "E5dQ9IcahdaF"
      },
      "execution_count": null,
      "outputs": []
    },
    {
      "cell_type": "code",
      "source": [
        "x_train = train_datagen.flow_from_directory(r\"/content/drive/MyDrive/Dataset/training_set\"),target_size=(64,64),class_mode=\"categorical\",batch_size=\",target_size=(64,64),class_mode=\"categorical\",batch_size=30)"
      ],
      "metadata": {
        "id": "ZqvLYNTKhdWp"
      },
      "execution_count": null,
      "outputs": []
    },
    {
      "cell_type": "markdown",
      "source": [
        "Found 15130 images belonging to 9 classes."
      ],
      "metadata": {
        "id": "uX_y8gDmiu9f"
      }
    },
    {
      "cell_type": "code",
      "source": [
        "x_test = test_datagen.flow_from_directory(r\"/content/drive/MyDrive/Dataset/test_set\",target_size=(64,64),class_mode=\"categorical\",batch_size=30)\n"
      ],
      "metadata": {
        "colab": {
          "base_uri": "https://localhost:8080/"
        },
        "id": "NEqz201ihdUK",
        "outputId": "3a6225d5-cbb2-4e89-c91a-858dd2804dcc"
      },
      "execution_count": null,
      "outputs": [
        {
          "output_type": "stream",
          "name": "stdout",
          "text": [
            "Found 0 images belonging to 6 classes.\n"
          ]
        }
      ]
    },
    {
      "cell_type": "markdown",
      "source": [
        "Model Building\n",
        "\n"
      ],
      "metadata": {
        "id": "L-M5451zjguM"
      }
    },
    {
      "cell_type": "code",
      "source": [
        "from keras.models import Sequential \n",
        "from keras.layers import Dense\n",
        "from keras.layers import Convolution2D\n",
        "from keras.layers import MaxPooling2D\n",
        "from keras.layers import Dropout\n",
        "from keras.layers import Flatten"
      ],
      "metadata": {
        "id": "qxMgxs-ihdRj"
      },
      "execution_count": null,
      "outputs": []
    },
    {
      "cell_type": "code",
      "source": [
        "model=Sequential()"
      ],
      "metadata": {
        "id": "wBtRFOxtjs3r"
      },
      "execution_count": null,
      "outputs": []
    },
    {
      "cell_type": "code",
      "source": [
        "model.add(Convolution2D(32,(3,3),activation=\"relu\",input_shape=(64,64,3)))"
      ],
      "metadata": {
        "id": "SAZt-hMAjs0V"
      },
      "execution_count": null,
      "outputs": []
    },
    {
      "cell_type": "code",
      "source": [
        "model.add(MaxPooling2D(pool_size=(2,2)))"
      ],
      "metadata": {
        "id": "F54ti6ENjsyJ"
      },
      "execution_count": null,
      "outputs": []
    },
    {
      "cell_type": "code",
      "source": [
        "model.add(Flatten())"
      ],
      "metadata": {
        "id": "g5NOvTtijsvw"
      },
      "execution_count": null,
      "outputs": []
    },
    {
      "cell_type": "code",
      "source": [
        "model.add(Dense(200,activation='relu'))\n",
        "model.add(Dense(9,activation=\"softmax\"))"
      ],
      "metadata": {
        "id": "bnw8SGG7jstU"
      },
      "execution_count": null,
      "outputs": []
    },
    {
      "cell_type": "code",
      "source": [
        "model.compile(loss=\"categorical_crossentropy\",metrics=[\"accuracy\"],optimizer='adam')"
      ],
      "metadata": {
        "id": "ooj1sN6Bjsq_"
      },
      "execution_count": null,
      "outputs": []
    },
    {
      "cell_type": "code",
      "source": [
        "len(x_train)"
      ],
      "metadata": {
        "id": "NNCZKY1qjsoU"
      },
      "execution_count": null,
      "outputs": []
    },
    {
      "cell_type": "markdown",
      "source": [
        "505"
      ],
      "metadata": {
        "id": "iiSXmY3kkICT"
      }
    },
    {
      "cell_type": "code",
      "source": [
        "len(x_test)"
      ],
      "metadata": {
        "colab": {
          "base_uri": "https://localhost:8080/"
        },
        "id": "6edmUtYwjsln",
        "outputId": "778c8749-07cc-4232-901a-bf0bf8b9b6cd"
      },
      "execution_count": null,
      "outputs": [
        {
          "output_type": "execute_result",
          "data": {
            "text/plain": [
              "0"
            ]
          },
          "metadata": {},
          "execution_count": 21
        }
      ]
    },
    {
      "cell_type": "code",
      "source": [
        "model.fit(x_train,epochs=10,validation_data=x_test,steps_per_epoch=len(x_train)//10,validation_steps=len(x_test))"
      ],
      "metadata": {
        "id": "xUSutmszkRQG"
      },
      "execution_count": null,
      "outputs": []
    },
    {
      "cell_type": "markdown",
      "source": [
        "Epoch 1/10\n",
        "50/50 [==============================] - 660s 13s/step - loss: 1.5022 - accuracy: 0.5087 - val_loss: 0.4575 - val_accuracy: 0.9652\n",
        "Epoch 2/10\n",
        "50/50 [==============================] - 353s 7s/step - loss: 0.5874 - accuracy: 0.8087 - val_loss: 0.2121 - val_accuracy: 0.9575\n",
        "Epoch 3/10\n",
        "50/50 [==============================] - 313s 6s/step - loss: 0.3571 - accuracy: 0.9007 - val_loss: 0.1109 - val_accuracy: 0.9758\n",
        "Epoch 4/10\n",
        "50/50 [==============================] - 284s 6s/step - loss: 0.2742 - accuracy: 0.9147 - val_loss: 0.0974 - val_accuracy: 0.9739\n",
        "Epoch 5/10\n",
        "50/50 [==============================] - 255s 5s/step - loss: 0.2381 - accuracy: 0.9293 - val_loss: 0.1118 - val_accuracy: 0.9758\n",
        "Epoch 6/10\n",
        "50/50 [==============================] - 220s 4s/step - loss: 0.1931 - accuracy: 0.9393 - val_loss: 0.0749 - val_accuracy: 0.9758\n",
        "Epoch 7/10\n",
        "50/50 [==============================] - 216s 4s/step - loss: 0.1990 - accuracy: 0.9353 - val_loss: 0.1006 - val_accuracy: 0.9797\n",
        "Epoch 8/10\n",
        "50/50 [==============================] - 187s 4s/step - loss: 0.1353 - accuracy: 0.9660 - val_loss: 0.0596 - val_accuracy: 0.9903\n",
        "Epoch 9/10\n",
        "50/50 [==============================] - 160s 3s/step - loss: 0.1248 - accuracy: 0.9713 - val_loss: 0.2522 - val_accuracy: 0.8908\n",
        "Epoch 10/10\n",
        "50/50 [==============================] - 149s 3s/step - loss: 0.1291 - accuracy: 0.9622 - val_loss: 0.0589 - val_accuracy: 0.9826\n"
      ],
      "metadata": {
        "id": "FNscjU4vkarv"
      }
    },
    {
      "cell_type": "code",
      "source": [
        "model.save(\"aslpng.h5\")"
      ],
      "metadata": {
        "id": "mE_BkSvzkdfC"
      },
      "execution_count": null,
      "outputs": []
    },
    {
      "cell_type": "code",
      "source": [
        "!tar -zcvf real-time-communication.tgz aslpng.h5"
      ],
      "metadata": {
        "colab": {
          "base_uri": "https://localhost:8080/"
        },
        "id": "ovaJIOBlkiq6",
        "outputId": "a6cd28cf-82da-48f6-cd4b-e5c78d3c6dfa"
      },
      "execution_count": null,
      "outputs": [
        {
          "output_type": "stream",
          "name": "stdout",
          "text": [
            "aslpng.h5\n"
          ]
        }
      ]
    },
    {
      "cell_type": "code",
      "source": [
        "!pip install watson-machine-learning-client --upgrade"
      ],
      "metadata": {
        "colab": {
          "base_uri": "https://localhost:8080/",
          "height": 1000
        },
        "id": "HbcpOuFnkn1w",
        "outputId": "1518d65b-28d4-483f-8171-d5391048cba9"
      },
      "execution_count": null,
      "outputs": [
        {
          "output_type": "stream",
          "name": "stdout",
          "text": [
            "Looking in indexes: https://pypi.org/simple, https://us-python.pkg.dev/colab-wheels/public/simple/\n",
            "Collecting watson-machine-learning-client\n",
            "  Downloading watson_machine_learning_client-1.0.391-py3-none-any.whl (538 kB)\n",
            "\u001b[K     |████████████████████████████████| 538 kB 5.1 MB/s \n",
            "\u001b[?25hRequirement already satisfied: tqdm in /usr/local/lib/python3.7/dist-packages (from watson-machine-learning-client) (4.64.1)\n",
            "Collecting lomond\n",
            "  Downloading lomond-0.3.3-py2.py3-none-any.whl (35 kB)\n",
            "Requirement already satisfied: certifi in /usr/local/lib/python3.7/dist-packages (from watson-machine-learning-client) (2022.9.24)\n",
            "Requirement already satisfied: tabulate in /usr/local/lib/python3.7/dist-packages (from watson-machine-learning-client) (0.8.10)\n",
            "Collecting ibm-cos-sdk\n",
            "  Downloading ibm-cos-sdk-2.12.0.tar.gz (55 kB)\n",
            "\u001b[K     |████████████████████████████████| 55 kB 2.7 MB/s \n",
            "\u001b[?25hRequirement already satisfied: pandas in /usr/local/lib/python3.7/dist-packages (from watson-machine-learning-client) (1.3.5)\n",
            "Requirement already satisfied: requests in /usr/local/lib/python3.7/dist-packages (from watson-machine-learning-client) (2.23.0)\n",
            "Requirement already satisfied: urllib3 in /usr/local/lib/python3.7/dist-packages (from watson-machine-learning-client) (1.24.3)\n",
            "Collecting boto3\n",
            "  Downloading boto3-1.26.16-py3-none-any.whl (132 kB)\n",
            "\u001b[K     |████████████████████████████████| 132 kB 30.4 MB/s \n",
            "\u001b[?25hCollecting s3transfer<0.7.0,>=0.6.0\n",
            "  Downloading s3transfer-0.6.0-py3-none-any.whl (79 kB)\n",
            "\u001b[K     |████████████████████████████████| 79 kB 7.0 MB/s \n",
            "\u001b[?25hCollecting botocore<1.30.0,>=1.29.16\n",
            "  Downloading botocore-1.29.16-py3-none-any.whl (9.9 MB)\n",
            "\u001b[K     |████████████████████████████████| 9.9 MB 40.1 MB/s \n",
            "\u001b[?25hCollecting jmespath<2.0.0,>=0.7.1\n",
            "  Downloading jmespath-1.0.1-py3-none-any.whl (20 kB)\n",
            "Requirement already satisfied: python-dateutil<3.0.0,>=2.1 in /usr/local/lib/python3.7/dist-packages (from botocore<1.30.0,>=1.29.16->boto3->watson-machine-learning-client) (2.8.2)\n",
            "Collecting urllib3\n",
            "  Downloading urllib3-1.26.13-py2.py3-none-any.whl (140 kB)\n",
            "\u001b[K     |████████████████████████████████| 140 kB 53.6 MB/s \n",
            "\u001b[?25hRequirement already satisfied: six>=1.5 in /usr/local/lib/python3.7/dist-packages (from python-dateutil<3.0.0,>=2.1->botocore<1.30.0,>=1.29.16->boto3->watson-machine-learning-client) (1.15.0)\n",
            "Collecting ibm-cos-sdk-core==2.12.0\n",
            "  Downloading ibm-cos-sdk-core-2.12.0.tar.gz (956 kB)\n",
            "\u001b[K     |████████████████████████████████| 956 kB 67.3 MB/s \n",
            "\u001b[?25hCollecting ibm-cos-sdk-s3transfer==2.12.0\n",
            "  Downloading ibm-cos-sdk-s3transfer-2.12.0.tar.gz (135 kB)\n",
            "\u001b[K     |████████████████████████████████| 135 kB 59.8 MB/s \n",
            "\u001b[?25hCollecting jmespath<2.0.0,>=0.7.1\n",
            "  Downloading jmespath-0.10.0-py2.py3-none-any.whl (24 kB)\n",
            "Collecting requests\n",
            "  Downloading requests-2.28.1-py3-none-any.whl (62 kB)\n",
            "\u001b[K     |████████████████████████████████| 62 kB 1.1 MB/s \n",
            "\u001b[?25hRequirement already satisfied: idna<4,>=2.5 in /usr/local/lib/python3.7/dist-packages (from requests->watson-machine-learning-client) (2.10)\n",
            "Requirement already satisfied: charset-normalizer<3,>=2 in /usr/local/lib/python3.7/dist-packages (from requests->watson-machine-learning-client) (2.1.1)\n",
            "Requirement already satisfied: pytz>=2017.3 in /usr/local/lib/python3.7/dist-packages (from pandas->watson-machine-learning-client) (2022.6)\n",
            "Requirement already satisfied: numpy>=1.17.3 in /usr/local/lib/python3.7/dist-packages (from pandas->watson-machine-learning-client) (1.21.6)\n",
            "Building wheels for collected packages: ibm-cos-sdk, ibm-cos-sdk-core, ibm-cos-sdk-s3transfer\n",
            "  Building wheel for ibm-cos-sdk (setup.py) ... \u001b[?25l\u001b[?25hdone\n",
            "  Created wheel for ibm-cos-sdk: filename=ibm_cos_sdk-2.12.0-py3-none-any.whl size=73930 sha256=c302417c9de0c2e3122a7f7bd1efe626d4f274e4ba9e29e33559090a0bf4bd4d\n",
            "  Stored in directory: /root/.cache/pip/wheels/ec/94/29/2b57327cf00664b6614304f7958abd29d77ea0e5bbece2ea57\n",
            "  Building wheel for ibm-cos-sdk-core (setup.py) ... \u001b[?25l\u001b[?25hdone\n",
            "  Created wheel for ibm-cos-sdk-core: filename=ibm_cos_sdk_core-2.12.0-py3-none-any.whl size=562963 sha256=4d32de45a8af05b60e46073e434fd7072b0c496dabe831bd06903e99a40193a2\n",
            "  Stored in directory: /root/.cache/pip/wheels/64/56/fb/5cd6f4f40406c828a5289b95b2752a4d142a9afb359244ed8d\n",
            "  Building wheel for ibm-cos-sdk-s3transfer (setup.py) ... \u001b[?25l\u001b[?25hdone\n",
            "  Created wheel for ibm-cos-sdk-s3transfer: filename=ibm_cos_sdk_s3transfer-2.12.0-py3-none-any.whl size=89778 sha256=264a2242b16cebba8c923ee1ddc02c68cf026d28330b5d270812556cf349884d\n",
            "  Stored in directory: /root/.cache/pip/wheels/57/79/6a/ffe3370ed7ebc00604f9f76766e1e0348dcdcad2b2e32df9e1\n",
            "Successfully built ibm-cos-sdk ibm-cos-sdk-core ibm-cos-sdk-s3transfer\n",
            "Installing collected packages: urllib3, requests, jmespath, ibm-cos-sdk-core, botocore, s3transfer, ibm-cos-sdk-s3transfer, lomond, ibm-cos-sdk, boto3, watson-machine-learning-client\n",
            "  Attempting uninstall: urllib3\n",
            "    Found existing installation: urllib3 1.24.3\n",
            "    Uninstalling urllib3-1.24.3:\n",
            "      Successfully uninstalled urllib3-1.24.3\n",
            "  Attempting uninstall: requests\n",
            "    Found existing installation: requests 2.23.0\n",
            "    Uninstalling requests-2.23.0:\n",
            "      Successfully uninstalled requests-2.23.0\n",
            "Successfully installed boto3-1.26.16 botocore-1.29.16 ibm-cos-sdk-2.12.0 ibm-cos-sdk-core-2.12.0 ibm-cos-sdk-s3transfer-2.12.0 jmespath-0.10.0 lomond-0.3.3 requests-2.28.1 s3transfer-0.6.0 urllib3-1.26.13 watson-machine-learning-client-1.0.391\n"
          ]
        },
        {
          "output_type": "display_data",
          "data": {
            "application/vnd.colab-display-data+json": {
              "pip_warning": {
                "packages": [
                  "requests",
                  "urllib3"
                ]
              }
            }
          },
          "metadata": {}
        }
      ]
    },
    {
      "cell_type": "code",
      "source": [
        "!pip install ibm_watson_machine_learning"
      ],
      "metadata": {
        "colab": {
          "base_uri": "https://localhost:8080/"
        },
        "id": "Ot1rLR0-kudq",
        "outputId": "94ad5c60-b455-486a-c39c-177ee42bc633"
      },
      "execution_count": null,
      "outputs": [
        {
          "output_type": "stream",
          "name": "stdout",
          "text": [
            "Looking in indexes: https://pypi.org/simple, https://us-python.pkg.dev/colab-wheels/public/simple/\n",
            "Collecting ibm_watson_machine_learning\n",
            "  Downloading ibm_watson_machine_learning-1.0.257-py3-none-any.whl (1.8 MB)\n",
            "\u001b[K     |████████████████████████████████| 1.8 MB 4.3 MB/s \n",
            "\u001b[?25hCollecting ibm-cos-sdk==2.7.*\n",
            "  Downloading ibm-cos-sdk-2.7.0.tar.gz (51 kB)\n",
            "\u001b[K     |████████████████████████████████| 51 kB 579 kB/s \n",
            "\u001b[?25hRequirement already satisfied: certifi in /usr/local/lib/python3.7/dist-packages (from ibm_watson_machine_learning) (2022.9.24)\n",
            "Requirement already satisfied: tabulate in /usr/local/lib/python3.7/dist-packages (from ibm_watson_machine_learning) (0.8.10)\n",
            "Requirement already satisfied: urllib3 in /usr/local/lib/python3.7/dist-packages (from ibm_watson_machine_learning) (1.26.13)\n",
            "Requirement already satisfied: packaging in /usr/local/lib/python3.7/dist-packages (from ibm_watson_machine_learning) (21.3)\n",
            "Requirement already satisfied: requests in /usr/local/lib/python3.7/dist-packages (from ibm_watson_machine_learning) (2.28.1)\n",
            "Requirement already satisfied: pandas<1.5.0,>=0.24.2 in /usr/local/lib/python3.7/dist-packages (from ibm_watson_machine_learning) (1.3.5)\n",
            "Requirement already satisfied: lomond in /usr/local/lib/python3.7/dist-packages (from ibm_watson_machine_learning) (0.3.3)\n",
            "Requirement already satisfied: importlib-metadata in /usr/local/lib/python3.7/dist-packages (from ibm_watson_machine_learning) (4.13.0)\n",
            "Collecting ibm-cos-sdk-core==2.7.0\n",
            "  Downloading ibm-cos-sdk-core-2.7.0.tar.gz (824 kB)\n",
            "\u001b[K     |████████████████████████████████| 824 kB 39.2 MB/s \n",
            "\u001b[?25hCollecting ibm-cos-sdk-s3transfer==2.7.0\n",
            "  Downloading ibm-cos-sdk-s3transfer-2.7.0.tar.gz (133 kB)\n",
            "\u001b[K     |████████████████████████████████| 133 kB 57.9 MB/s \n",
            "\u001b[?25hRequirement already satisfied: jmespath<1.0.0,>=0.7.1 in /usr/local/lib/python3.7/dist-packages (from ibm-cos-sdk==2.7.*->ibm_watson_machine_learning) (0.10.0)\n",
            "Collecting docutils<0.16,>=0.10\n",
            "  Downloading docutils-0.15.2-py3-none-any.whl (547 kB)\n",
            "\u001b[K     |████████████████████████████████| 547 kB 43.0 MB/s \n",
            "\u001b[?25hRequirement already satisfied: python-dateutil<3.0.0,>=2.1 in /usr/local/lib/python3.7/dist-packages (from ibm-cos-sdk-core==2.7.0->ibm-cos-sdk==2.7.*->ibm_watson_machine_learning) (2.8.2)\n",
            "Requirement already satisfied: pytz>=2017.3 in /usr/local/lib/python3.7/dist-packages (from pandas<1.5.0,>=0.24.2->ibm_watson_machine_learning) (2022.6)\n",
            "Requirement already satisfied: numpy>=1.17.3 in /usr/local/lib/python3.7/dist-packages (from pandas<1.5.0,>=0.24.2->ibm_watson_machine_learning) (1.21.6)\n",
            "Requirement already satisfied: six>=1.5 in /usr/local/lib/python3.7/dist-packages (from python-dateutil<3.0.0,>=2.1->ibm-cos-sdk-core==2.7.0->ibm-cos-sdk==2.7.*->ibm_watson_machine_learning) (1.15.0)\n",
            "Requirement already satisfied: idna<4,>=2.5 in /usr/local/lib/python3.7/dist-packages (from requests->ibm_watson_machine_learning) (2.10)\n",
            "Requirement already satisfied: charset-normalizer<3,>=2 in /usr/local/lib/python3.7/dist-packages (from requests->ibm_watson_machine_learning) (2.1.1)\n",
            "Requirement already satisfied: typing-extensions>=3.6.4 in /usr/local/lib/python3.7/dist-packages (from importlib-metadata->ibm_watson_machine_learning) (4.1.1)\n",
            "Requirement already satisfied: zipp>=0.5 in /usr/local/lib/python3.7/dist-packages (from importlib-metadata->ibm_watson_machine_learning) (3.10.0)\n",
            "Requirement already satisfied: pyparsing!=3.0.5,>=2.0.2 in /usr/local/lib/python3.7/dist-packages (from packaging->ibm_watson_machine_learning) (3.0.9)\n",
            "Building wheels for collected packages: ibm-cos-sdk, ibm-cos-sdk-core, ibm-cos-sdk-s3transfer\n",
            "  Building wheel for ibm-cos-sdk (setup.py) ... \u001b[?25l\u001b[?25hdone\n",
            "  Created wheel for ibm-cos-sdk: filename=ibm_cos_sdk-2.7.0-py2.py3-none-any.whl size=72567 sha256=8ee0635e80c9deaa7162109e468712f51d8721b341bd74f62f04bb7978fc25b2\n",
            "  Stored in directory: /root/.cache/pip/wheels/47/22/bf/e1154ff0f5de93cc477acd0ca69abfbb8b799c5b28a66b44c2\n",
            "  Building wheel for ibm-cos-sdk-core (setup.py) ... \u001b[?25l\u001b[?25hdone\n",
            "  Created wheel for ibm-cos-sdk-core: filename=ibm_cos_sdk_core-2.7.0-py2.py3-none-any.whl size=501011 sha256=602efc9887f67829e9efb280bd88ccf1826f55782e142eb34d38ea693f8f062f\n",
            "  Stored in directory: /root/.cache/pip/wheels/6c/a2/e4/c16d02f809a3ea998e17cfd02c13369281f3d232aaf5902c19\n",
            "  Building wheel for ibm-cos-sdk-s3transfer (setup.py) ... \u001b[?25l\u001b[?25hdone\n",
            "  Created wheel for ibm-cos-sdk-s3transfer: filename=ibm_cos_sdk_s3transfer-2.7.0-py2.py3-none-any.whl size=88618 sha256=5675e629266ddc3b29932eee453517d31c8f083479134f94824b1bb2a3884a8b\n",
            "  Stored in directory: /root/.cache/pip/wheels/5f/b7/14/fbe02bc1ef1af890650c7e51743d1c83890852e598d164b9da\n",
            "Successfully built ibm-cos-sdk ibm-cos-sdk-core ibm-cos-sdk-s3transfer\n",
            "Installing collected packages: docutils, ibm-cos-sdk-core, ibm-cos-sdk-s3transfer, ibm-cos-sdk, ibm-watson-machine-learning\n",
            "  Attempting uninstall: docutils\n",
            "    Found existing installation: docutils 0.17.1\n",
            "    Uninstalling docutils-0.17.1:\n",
            "      Successfully uninstalled docutils-0.17.1\n",
            "  Attempting uninstall: ibm-cos-sdk-core\n",
            "    Found existing installation: ibm-cos-sdk-core 2.12.0\n",
            "    Uninstalling ibm-cos-sdk-core-2.12.0:\n",
            "      Successfully uninstalled ibm-cos-sdk-core-2.12.0\n",
            "  Attempting uninstall: ibm-cos-sdk-s3transfer\n",
            "    Found existing installation: ibm-cos-sdk-s3transfer 2.12.0\n",
            "    Uninstalling ibm-cos-sdk-s3transfer-2.12.0:\n",
            "      Successfully uninstalled ibm-cos-sdk-s3transfer-2.12.0\n",
            "  Attempting uninstall: ibm-cos-sdk\n",
            "    Found existing installation: ibm-cos-sdk 2.12.0\n",
            "    Uninstalling ibm-cos-sdk-2.12.0:\n",
            "      Successfully uninstalled ibm-cos-sdk-2.12.0\n",
            "Successfully installed docutils-0.15.2 ibm-cos-sdk-2.7.0 ibm-cos-sdk-core-2.7.0 ibm-cos-sdk-s3transfer-2.7.0 ibm-watson-machine-learning-1.0.257\n"
          ]
        }
      ]
    },
    {
      "cell_type": "code",
      "source": [
        "from ibm_watson_machine_learning import APIClient\n",
        "wml_credentials = {\n",
        "    \"url\": \"https://eu-de.ml.cloud.ibm.com\",\n",
        "    \"apikey\": \"1-XN7Vn3RnrLhFOJdL5fZhv6nYwqHNPb3OAwA0KkZlk9\"\n",
        "}\n",
        "\n",
        "client = APIClient(wml_credentials)"
      ],
      "metadata": {
        "id": "aP-ApkdKk8JO"
      },
      "execution_count": null,
      "outputs": []
    },
    {
      "cell_type": "markdown",
      "source": [
        "Python 3.7 and 3.8 frameworks are deprecated and will be removed in a future release. Use Python 3.9 framework instead.\n"
      ],
      "metadata": {
        "id": "UUWruCthVEb-"
      }
    },
    {
      "cell_type": "code",
      "source": [
        "client"
      ],
      "metadata": {
        "id": "MZFIa4WkVG17"
      },
      "execution_count": null,
      "outputs": []
    },
    {
      "cell_type": "code",
      "source": [
        "client.spaces.get_details()\n"
      ],
      "metadata": {
        "id": "Q1zO2czqVLyE"
      },
      "execution_count": null,
      "outputs": []
    },
    {
      "cell_type": "markdown",
      "source": [
        "{'resources': [{'entity': {'compute': [{'crn': 'crn:v1:bluemix:public:pm-20:eu-de:a/b9331efaedac4670a69900b9b86e4341:150d8bd2-b3df-4636-848a-d80f4b26fcd1::',\n",
        "      'guid': '150d8bd2-b3df-4636-848a-d80f4b26fcd1',\n",
        "      'name': 'Watson Machine Learning-kn',\n",
        "      'type': 'machine_learning'}],\n",
        "    'description': '',\n",
        "    'name': 'Real Time Communication Powered by AI for Specially Abled',\n",
        "    'scope': {'bss_account_id': 'b9331efaedac4670a69900b9b86e4341'},\n",
        "    'stage': {'production': False},\n",
        "    'status': {'state': 'active'},\n",
        "    'storage': {'properties': {'bucket_name': '9f4f8465-6521-43e6-8b63-713a7c5aa38e',\n",
        "      'bucket_region': 'eu-de-standard',\n",
        "      'credentials': {'admin': {'access_key_id': '9666c3ab19204db3a12c6cd40a19070b',\n",
        "        'api_key': 'oPwhc0Hel875UHla8P8VsENtzBUS_APw3k8K3OQshISm',\n",
        "        'secret_access_key': '681fe49d3fa45404ff41cb2f361afe50ddae9ae4ac3e5e31',\n",
        "        'service_id': 'ServiceId-61c87d99-7dfc-491e-bdef-72cf589cac2e'},\n",
        "       'editor': {'access_key_id': '89015f81ffa44ce4aafaa0f6b126fcd0',\n",
        "        'api_key': '5tIhzR9qoe4Sb_Vy_8CbAncizn4Tn-HuNQbUllYDe9Mc',\n",
        "        'resource_key_crn': 'crn:v1:bluemix:public:cloud-object-storage:global:a/b9331efaedac4670a69900b9b86e4341:920ea9cd-9efd-4270-a82b-87e13faac607::',\n",
        "        'secret_access_key': 'e80ffcca8f3b1895f50623e1bef472d528c7b6efcc9b8b16',\n",
        "        'service_id': 'ServiceId-34ca60b5-c426-493b-876f-45ad413fac13'},\n",
        "       'viewer': {'access_key_id': 'f5a9f869485449cdbf8c89e26f6d3f42',\n",
        "        'api_key': 'pU3-oUXor3-v7H7oo79UMqWa3sFO5ZOy6vVbsGu_Wgk7',\n",
        "        'resource_key_crn': 'crn:v1:bluemix:public:cloud-object-storage:global:a/b9331efaedac4670a69900b9b86e4341:920ea9cd-9efd-4270-a82b-87e13faac607::',\n",
        "        'secret_access_key': 'eadb8fb91cb0e696bcece3787091858badd7ed5b4f4f72ce',\n",
        "        'service_id': 'ServiceId-5506b388-13e7-4bd1-b9a8-e645543e1c61'}},\n",
        "      'endpoint_url': 'https://s3.eu-de.cloud-object-storage.appdomain.cloud',\n",
        "      'guid': '920ea9cd-9efd-4270-a82b-87e13faac607',\n",
        "      'resource_crn': 'crn:v1:bluemix:public:cloud-object-storage:global:a/b9331efaedac4670a69900b9b86e4341:920ea9cd-9efd-4270-a82b-87e13faac607::'},\n",
        "     'type': 'bmcos_object_storage'}},\n",
        "   'metadata': {'created_at': '2022-11-06T10:33:47.576Z', 'creator_id': 'IBMid-6620040IQT',\n",
        "    'id': 'cff76553-4fb2-400c-9341-d2e9ac10faee',\n",
        "    'updated_at': '2022-11-06T10:34:06.965Z',\n",
        "    'url': '/v2/spaces/cff76553-4fb2-400c-9341-d2e9ac10faee'}}]}"
      ],
      "metadata": {
        "id": "8RxlArD7Vq2y"
      }
    },
    {
      "cell_type": "code",
      "source": [
        "space_uid=\"cff76553-4fb2-400c-9341-d2e9ac10faee\"\n"
      ],
      "metadata": {
        "id": "NQG-gHwuVyZD"
      },
      "execution_count": 1,
      "outputs": []
    },
    {
      "cell_type": "markdown",
      "source": [
        "Connecting with IBM"
      ],
      "metadata": {
        "id": "h6hlOUVoV3fN"
      }
    },
    {
      "cell_type": "code",
      "source": [
        "from tensorflow.keras.models import load_model"
      ],
      "metadata": {
        "id": "JhHc6Biguv58"
      },
      "execution_count": null,
      "outputs": []
    },
    {
      "cell_type": "code",
      "source": [
        "model = load_model('aslpng.h5')"
      ],
      "metadata": {
        "id": "8cqs7hVruy7W"
      },
      "execution_count": null,
      "outputs": []
    },
    {
      "cell_type": "code",
      "source": [
        "client.set.default_space(space_uid)"
      ],
      "metadata": {
        "id": "e-goAVUBu2bL"
      },
      "execution_count": null,
      "outputs": []
    },
    {
      "cell_type": "markdown",
      "source": [
        "'SUCCESS'"
      ],
      "metadata": {
        "id": "qJ34wZSJu7OW"
      }
    },
    {
      "cell_type": "code",
      "source": [
        "client.software_specifications.list()"
      ],
      "metadata": {
        "id": "LWDiVCoWu8hV"
      },
      "execution_count": null,
      "outputs": []
    },
    {
      "cell_type": "markdown",
      "source": [
        "NAME                           ASSET_ID                              TYPE\n",
        "default_py3.6                  0062b8c9-8b7d-44a0-a9b9-46c416adcbd9  base\n",
        "kernel-spark3.2-scala2.12      020d69ce-7ac1-5e68-ac1a-31189867356a  base\n",
        "pytorch-onnx_1.3-py3.7-edt     069ea134-3346-5748-b513-49120e15d288  base\n",
        "scikit-learn_0.20-py3.6        09c5a1d0-9c1e-4473-a344-eb7b665ff687  base\n",
        "spark-mllib_3.0-scala_2.12     09f4cff0-90a7-5899-b9ed-1ef348aebdee  base\n",
        "pytorch-onnx_rt22.1-py3.9      0b848dd4-e681-5599-be41-b5f6fccc6471  base\n",
        "ai-function_0.1-py3.6          0cdb0f1e-5376-4f4d-92dd-da3b69aa9bda  base\n",
        "shiny-r3.6                     0e6e79df-875e-4f24-8ae9-62dcc2148306  base\n",
        "tensorflow_2.4-py3.7-horovod   1092590a-307d-563d-9b62-4eb7d64b3f22  base\n",
        "pytorch_1.1-py3.6              10ac12d6-6b30-4ccd-8392-3e922c096a92  base\n",
        "tensorflow_1.15-py3.6-ddl      111e41b3-de2d-5422-a4d6-bf776828c4b7  base\n",
        "runtime-22.1-py3.9             12b83a17-24d8-5082-900f-0ab31fbfd3cb  base\n",
        "scikit-learn_0.22-py3.6        154010fa-5b3b-4ac1-82af-4d5ee5abbc85  base\n",
        "default_r3.6                   1b70aec3-ab34-4b87-8aa0-a4a3c8296a36  base\n",
        "pytorch-onnx_1.3-py3.6         1bc6029a-cc97-56da-b8e0-39c3880dbbe7  base\n",
        "kernel-spark3.3-r3.6           1c9e5454-f216-59dd-a20e-474a5cdf5988  base\n",
        "pytorch-onnx_rt22.1-py3.9-edt  1d362186-7ad5-5b59-8b6c-9d0880bde37f  base\n",
        "tensorflow_2.1-py3.6           1eb25b84-d6ed-5dde-b6a5-3fbdf1665666  base\n",
        "spark-mllib_3.2                20047f72-0a98-58c7-9ff5-a77b012eb8f5  base\n",
        "tensorflow_2.4-py3.8-horovod   217c16f6-178f-56bf-824a-b19f20564c49  base\n",
        "runtime-22.1-py3.9-cuda        26215f05-08c3-5a41-a1b0-da66306ce658  base\n",
        "do_py3.8                       295addb5-9ef9-547e-9bf4-92ae3563e720  base\n",
        "autoai-ts_3.8-py3.8            2aa0c932-798f-5ae9-abd6-15e0c2402fb5  base\n",
        "tensorflow_1.15-py3.6          2b73a275-7cbf-420b-a912-eae7f436e0bc  base\n",
        "kernel-spark3.3-py3.9          2b7961e2-e3b1-5a8c-a491-482c8368839a  base\n",
        "pytorch_1.2-py3.6              2c8ef57d-2687-4b7d-acce-01f94976dac1  base\n",
        "spark-mllib_2.3                2e51f700-bca0-4b0d-88dc-5c6791338875  base\n",
        "pytorch-onnx_1.1-py3.6-edt     32983cea-3f32-4400-8965-dde874a8d67e  base\n",
        "spark-mllib_3.0-py37           36507ebe-8770-55ba-ab2a-eafe787600e9  base\n",
        "spark-mllib_2.4                390d21f8-e58b-4fac-9c55-d7ceda621326  base\n",
        "xgboost_0.82-py3.6             39e31acd-5f30-41dc-ae44-60233c80306e  base\n",
        "pytorch-onnx_1.2-py3.6-edt     40589d0e-7019-4e28-8daa-fb03b6f4fe12  base\n",
        "default_r36py38                41c247d3-45f8-5a71-b065-8580229facf0  base\n",
        "autoai-ts_rt22.1-py3.9         4269d26e-07ba-5d40-8f66-2d495b0c71f7  base\n",
        "autoai-obm_3.0                 42b92e18-d9ab-567f-988a-4240ba1ed5f7  base\n",
        "pmml-3.0_4.3                   493bcb95-16f1-5bc5-bee8-81b8af80e9c7  base\n",
        "spark-mllib_2.4-r_3.6          49403dff-92e9-4c87-a3d7-a42d0021c095  base\n",
        "xgboost_0.90-py3.6             4ff8d6c2-1343-4c18-85e1-689c965304d3  base\n",
        "pytorch-onnx_1.1-py3.6         50f95b2a-bc16-43bb-bc94-b0bed208c60b  base\n",
        "autoai-ts_3.9-py3.8            52c57136-80fa-572e-8728-a5e7cbb42cde  base\n",
        "spark-mllib_2.4-scala_2.11     55a70f99-7320-4be5-9fb9-9edb5a443af5  base\n",
        "spark-mllib_3.0                5c1b0ca2-4977-5c2e-9439-ffd44ea8ffe9  base\n",
        "autoai-obm_2.0                 5c2e37fa-80b8-5e77-840f-d912469614ee  base\n",
        "spss-modeler_18.1              5c3cad7e-507f-4b2a-a9a3-ab53a21dee8b  base\n",
        "cuda-py3.8                     5d3232bf-c86b-5df4-a2cd-7bb870a1cd4e  base\n",
        "autoai-kb_3.1-py3.7            632d4b22-10aa-5180-88f0-f52dfb6444d7  base"
      ],
      "metadata": {
        "id": "cnAuRHp5vH7y"
      }
    },
    {
      "cell_type": "markdown",
      "source": [
        "pytorch-onnx_1.7-py3.8         634d3cdc-b562-5bf9-a2d4-ea90a478456b  base\n",
        "spark-mllib_2.3-r_3.6          6586b9e3-ccd6-4f92-900f-0f8cb2bd6f0c  base\n",
        "tensorflow_2.4-py3.7           65e171d7-72d1-55d9-8ebb-f813d620c9bb  base\n",
        "spss-modeler_18.2              687eddc9-028a-4117-b9dd-e57b36f1efa5  base"
      ],
      "metadata": {
        "id": "yCfxhnK3vLo5"
      }
    },
    {
      "cell_type": "markdown",
      "source": [
        "-----------------------------  ------------------------------------  ----\n",
        "Note: Only first 50 records were displayed. To display more use 'limit' parameter."
      ],
      "metadata": {
        "id": "NJ2nXn8wvO0y"
      }
    },
    {
      "cell_type": "code",
      "source": [
        "software_spec_uid = client.software_specifications.get_uid_by_name(\"tensorflow_rt22.1-py3.9\")\n",
        "software_spec_uid"
      ],
      "metadata": {
        "id": "K02genZxvSMv"
      },
      "execution_count": null,
      "outputs": []
    },
    {
      "cell_type": "markdown",
      "source": [
        "'acd9c798-6974-5d2f-a657-ce06e986df4d'"
      ],
      "metadata": {
        "id": "V9lpJXN4vRP3"
      }
    },
    {
      "cell_type": "code",
      "source": [
        "model_details = client.repository.store_model(model='real-time-communication.tgz', meta_props={\n",
        "    client.repository.ModelMetaNames.NAME: \"CNN\",\n",
        "    client.repository.ModelMetaNames.SOFTWARE_SPEC_UID: software_spec_uid,\n",
        "    client.repository.ModelMetaNames.TYPE: \"tensorflow_2.7\"})\n",
        "model_id = client.repository.get_model_id(model_details)"
      ],
      "metadata": {
        "id": "RpfVttHjvYmb"
      },
      "execution_count": null,
      "outputs": []
    },
    {
      "cell_type": "code",
      "source": [
        "model_id"
      ],
      "metadata": {
        "id": "iczIksaCvc7c"
      },
      "execution_count": null,
      "outputs": []
    },
    {
      "cell_type": "markdown",
      "source": [
        "'569def7e-733c-4134-b9a2-076ce01cbd28'"
      ],
      "metadata": {
        "id": "gYM7HQzmvgbo"
      }
    },
    {
      "cell_type": "code",
      "source": [
        "client.repository.download(model_id,'real-time-communication-system.tgz')"
      ],
      "metadata": {
        "id": "Z47tUdKLvh-V"
      },
      "execution_count": null,
      "outputs": []
    },
    {
      "cell_type": "markdown",
      "source": [
        "Successfully saved model content to file: 'real-time-communication-system.tgz'\n",
        "'/content/real-time-communication-system.tgz'"
      ],
      "metadata": {
        "id": "Y6tuJPCMvn8a"
      }
    },
    {
      "cell_type": "markdown",
      "source": [
        "Testing the model"
      ],
      "metadata": {
        "id": "MgjDK1_Yvnxt"
      }
    },
    {
      "cell_type": "code",
      "source": [
        "from keras.models import load_model\n",
        "import numpy as np\n",
        "import cv2"
      ],
      "metadata": {
        "id": "BSZTDyUdvtaI"
      },
      "execution_count": 10,
      "outputs": []
    },
    {
      "cell_type": "code",
      "source": [
        "from tensorflow.keras.models import load_model\n",
        "from tensorflow.keras.preprocessing import image \n",
        "import numpy as np"
      ],
      "metadata": {
        "id": "yNzPIELuvuNP"
      },
      "execution_count": 11,
      "outputs": []
    },
    {
      "cell_type": "code",
      "source": [
        "model=load_model(\"aslpng.h5\")\n",
        "img = image.load_img(r\"/content/drive/MyDrive/Dataset/test_set/D\",target_size=(64,64))\n",
        "img"
      ],
      "metadata": {
        "id": "v-ZUaHAwvt8_"
      },
      "execution_count": null,
      "outputs": []
    },
    {
      "cell_type": "markdown",
      "source": [
        "![download (7).png](data:image/png;base64,iVBORw0KGgoAAAANSUhEUgAAAEAAAABACAIAAAAlC+aJAAACAElEQVR4nO2aMa6CQBCG8WEMhBt4Aa+AjbUnQA5AYmJib2dpY2VDvAhnoDJ02NFaWJKQGJN9hU8fT6KPnZndgcjXqezMP9n5xwU1jI6Ojg/F9/0kSbhVQFmv1+LOZDLhliOJ4ziiRBiGjGK+AGvyPCfXAQZSQKP4vAIsy1KhA0zrd0Aay7LEX3j1fN4OFEXRqB3oyS6oKu71pIMQ0voW6grghqCA5XKJDwKmMzE3BAWEYei6bvmbYTgcPj5drVb4FJSICofDofrmZrPJ87z8klv4narWmpxOJxV69HkgyzIVYVtvYoIxWp84jg3DGI/H4AhYkiQBe6AMoafldqAoCqpbSqqvPzYPYFqxDKeJTdPEB+EsIAgC3Smr95NIZrMZUhKbiX/So62stoUul8v7C/BWVlvAYDD495rpdIpJ0fqjBH8BnufpS0Y+hW4sFguwJOYp9KsDOo7kluGHxksd0AIkPKBOPYa6BaRpqlQHGP4phKT1BUhYR6kHdJi4mTSigCiKwGsb0UKYQzX/DhyPR9d1dWRScQoSQug7Tu/3e0wmRcg13/V6JXmU8CxCmwf6/T440ytGoxF5zHfQGgD/pzXI3gm6ecrzVMK2bWTWB77vU4WSIwgCfP/sdjse9TeeftgDMJ/P8TJQLYg0A8kTdv6jBBL6uV6H7XZ7Pp9JQn0D8VQqTraSDK4AAAAASUVORK5CYII=)"
      ],
      "metadata": {
        "id": "V68CwQU8whpM"
      }
    },
    {
      "cell_type": "code",
      "source": [
        "x = image.img_to_array(img)\n",
        "x"
      ],
      "metadata": {
        "id": "-Y1vgwhGwoWj"
      },
      "execution_count": null,
      "outputs": []
    },
    {
      "cell_type": "markdown",
      "source": [
        "array([[[0., 0., 0.],\n",
        "        [0., 0., 0.],\n",
        "        [0., 0., 0.],\n",
        "        ...,\n",
        "        [0., 0., 0.],\n",
        "        [0., 0., 0.],\n",
        "        [0., 0., 0.]],\n",
        "\n",
        "       [[0., 0., 0.],\n",
        "        [0., 0., 0.],\n",
        "        [0., 0., 0.],\n",
        "        ...,\n",
        "        [0., 0., 0.],\n",
        "        [0., 0., 0.],\n",
        "        [0., 0., 0.]],\n",
        "\n",
        "       [[0., 0., 0.],\n",
        "        [0., 0., 0.],\n",
        "        [0., 0., 0.],\n",
        "        ...,\n",
        "        [0., 0., 0.],\n",
        "        [0., 0., 0.],\n",
        "        [0., 0., 0.]],\n",
        "\n",
        "       ...,\n",
        "\n",
        "       [[0., 0., 0.],\n",
        "        [0., 0., 0.],\n",
        "        [0., 0., 0.],\n",
        "        ...,\n",
        "        [0., 0., 0.],\n",
        "        [0., 0., 0.],\n",
        "        [0., 0., 0.]],\n",
        "\n",
        "       [[0., 0., 0.],\n",
        "        [0., 0., 0.],\n",
        "        [0., 0., 0.],\n",
        "        ...,\n",
        "        [0., 0., 0.],\n",
        "        [0., 0., 0.],\n",
        "        [0., 0., 0.]],\n",
        "\n",
        "       [[0., 0., 0.],\n",
        "        [0., 0., 0.],\n",
        "        [0., 0., 0.],\n",
        "         ...,\n",
        "        [0., 0., 0.],\n",
        "        [0., 0., 0.],\n",
        "        [0., 0., 0.]]], dtype=float32)"
      ],
      "metadata": {
        "id": "-5x_x8y4wsee"
      }
    },
    {
      "cell_type": "code",
      "source": [
        "x.shape"
      ],
      "metadata": {
        "id": "DqhumEtpw0p5"
      },
      "execution_count": null,
      "outputs": []
    },
    {
      "cell_type": "markdown",
      "source": [
        "(64, 64, 3)"
      ],
      "metadata": {
        "id": "ZqXse1Icw5WG"
      }
    },
    {
      "cell_type": "code",
      "source": [
        "x = np.expand_dims(x,axis=0)\n",
        "x.shape"
      ],
      "metadata": {
        "id": "rYBdQz_kw8VV"
      },
      "execution_count": null,
      "outputs": []
    },
    {
      "cell_type": "markdown",
      "source": [
        "(1, 64, 64, 3)"
      ],
      "metadata": {
        "id": "FFOIt3ixxMwe"
      }
    },
    {
      "cell_type": "code",
      "source": [
        "pred = model.predict(x)"
      ],
      "metadata": {
        "id": "ig1Wjb0AxPOS"
      },
      "execution_count": null,
      "outputs": []
    },
    {
      "cell_type": "markdown",
      "source": [
        "1/1 [==============================] - 0s 141ms/step"
      ],
      "metadata": {
        "id": "r1LfudFsxVOZ"
      }
    },
    {
      "cell_type": "code",
      "source": [
        "pred"
      ],
      "metadata": {
        "id": "9uRrHYW7xYc2"
      },
      "execution_count": null,
      "outputs": []
    },
    {
      "cell_type": "markdown",
      "source": [
        "array([[0., 0., 0., 1., 0., 0., 0., 0., 0.]], dtype=float32)"
      ],
      "metadata": {
        "id": "5y1JG3V6xdKe"
      }
    },
    {
      "cell_type": "code",
      "source": [
        "class_name=[\"A\",\"B\",\"C\",\"D\",\"E\",\"F\",\"G\",\"H\",\"I\"]\n",
        "pred_id = pred.argmax(axis=1)[0]\n",
        "pred_id"
      ],
      "metadata": {
        "id": "kWezZuJPxeZY"
      },
      "execution_count": null,
      "outputs": []
    },
    {
      "cell_type": "markdown",
      "source": [
        "3"
      ],
      "metadata": {
        "id": "LcpkPgwuxez1"
      }
    },
    {
      "cell_type": "code",
      "source": [
        "print(\"the alphabet is \",str(class_name[pred_id]))"
      ],
      "metadata": {
        "id": "pTHNVu2OxfQD"
      },
      "execution_count": null,
      "outputs": []
    },
    {
      "cell_type": "markdown",
      "source": [
        "the alphabet is  D"
      ],
      "metadata": {
        "id": "lkX0Ey7bxfjg"
      }
    }
  ]
}