{
  "nbformat": 4,
  "nbformat_minor": 0,
  "metadata": {
    "colab": {
      "provenance": []
    },
    "kernelspec": {
      "name": "python3",
      "display_name": "Python 3"
    },
    "language_info": {
      "name": "python"
    }
  },
  "cells": [
    {
      "cell_type": "code",
      "source": [
        "from ibm_watson_machine_learning import APIClient\n",
        "import tarfile\n",
        "\n",
        "web_cred={\n",
        "    \"apikey\": \"k5dhyLxzvxOg0E6KPDSTLtIQgenUGD3loujiRCWrBErK\",\n",
        "\t\"url\": \"https://eu-gb.ml.cloud.ibm.com\"\n",
        "}\n",
        "\n",
        "client=APIClient(web_cred)"
      ],
      "metadata": {
        "id": "8Bu8EHxsz-xX"
      },
      "execution_count": null,
      "outputs": []
    },
    {
      "cell_type": "code",
      "source": [
        "spaceID=\"e4ef5efc-e11a-41cc-9c1e-b45c6a510aeb\"\n",
        "client.set.default_space(spaceID)"
      ],
      "metadata": {
        "id": "WXaNX-Shz-8R"
      },
      "execution_count": null,
      "outputs": []
    },
    {
      "cell_type": "markdown",
      "source": [
        "'SUCCESS'"
      ],
      "metadata": {
        "id": "SQ63rpMl0486"
      }
    },
    {
      "cell_type": "code",
      "source": [
        "model_id=\"e85e52c1-6ab2-4fa5-a56e-5610b7368292\""
      ],
      "metadata": {
        "id": "jCwliVexz_FX"
      },
      "execution_count": 24,
      "outputs": []
    },
    {
      "cell_type": "code",
      "source": [
        "client.repository.download(model_id,'Model/sign.tgz')"
      ],
      "metadata": {
        "id": "scVXzZ8Xz_IG"
      },
      "execution_count": null,
      "outputs": []
    },
    {
      "cell_type": "markdown",
      "source": [
        "Successfully saved model content to file: 'Model/sign.tgz'\n",
        "'c:\\\\Users\\\\Deva\\\\Documents\\\\PROGRAMMING\\\\Project/Model/sign.tgz'"
      ],
      "metadata": {
        "id": "WtbqDVrl1Bdw"
      }
    },
    {
      "cell_type": "code",
      "source": [
        "!tar xvf Model/sign.tgz --directory \"/Users/Deva/Documents/PROGRAMMING/Project/Model/\""
      ],
      "metadata": {
        "colab": {
          "base_uri": "https://localhost:8080/"
        },
        "id": "eORXupNDz_Kt",
        "outputId": "7293babf-9d83-4386-fd41-9b6ce329bcbf"
      },
      "execution_count": 26,
      "outputs": [
        {
          "output_type": "stream",
          "name": "stdout",
          "text": [
            "tar: Model/sign.tgz: Cannot open: No such file or directory\n",
            "tar: Error is not recoverable: exiting now\n"
          ]
        }
      ]
    },
    {
      "cell_type": "markdown",
      "source": [
        "x keras_model.h5"
      ],
      "metadata": {
        "id": "44IHJqH31yzT"
      }
    }
  ]
}