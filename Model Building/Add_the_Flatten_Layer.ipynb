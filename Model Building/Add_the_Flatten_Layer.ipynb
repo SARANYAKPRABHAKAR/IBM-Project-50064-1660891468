{
  "nbformat": 4,
  "nbformat_minor": 0,
  "metadata": {
    "colab": {
      "provenance": []
    },
    "kernelspec": {
      "name": "python3",
      "display_name": "Python 3"
    },
    "language_info": {
      "name": "python"
    }
  },
  "cells": [
    {
      "cell_type": "markdown",
      "source": [
        "**Model Building**"
      ],
      "metadata": {
        "id": "ecz8Y_zNjQ6y"
      }
    },
    {
      "cell_type": "markdown",
      "source": [
        "Adding The Flatten Layer"
      ],
      "metadata": {
        "id": "fVsCaDSujRCS"
      }
    },
    {
      "cell_type": "code",
      "source": [
        "# importing numpy as np\n",
        "import numpy as np"
      ],
      "metadata": {
        "id": "LqkxZCmZjYK7"
      },
      "execution_count": 1,
      "outputs": []
    },
    {
      "cell_type": "code",
      "source": [
        "# declare flatten np\n",
        "gfg = np.array([[6, 9, 12], [8, 5, 2], [18, 21, 24]])\n",
        "\n",
        "# using array.flatten() method\n",
        "flat_gfg = gfg.flatten(order='A')\n",
        "print(flat_gfg)\n"
      ],
      "metadata": {
        "colab": {
          "base_uri": "https://localhost:8080/"
        },
        "id": "3nxMBOwXjYT-",
        "outputId": "32a7d166-ea1e-4f93-8a35-2a511bf3f3e7"
      },
      "execution_count": 2,
      "outputs": [
        {
          "output_type": "stream",
          "name": "stdout",
          "text": [
            "[ 6  9 12  8  5  2 18 21 24]\n"
          ]
        }
      ]
    },
    {
      "cell_type": "code",
      "source": [
        "from tensorflow.keras.preprocessing.image import ImageDataGenerator"
      ],
      "metadata": {
        "id": "40_c72tbjYQk"
      },
      "execution_count": null,
      "outputs": []
    },
    {
      "cell_type": "code",
      "source": [
        "# Training Datagen\n",
        "train_datagen = ImageDataGenerator(rescale=1/255,zoom_range=0.2,horizontal_flip=True,vertical_flip=False)\n",
        "# Testing Datagen\n",
        "test_datagen = ImageDataGenerator(rescale=1/255)"
      ],
      "metadata": {
        "id": "Y5ObpZxjjf2s"
      },
      "execution_count": null,
      "outputs": []
    },
    {
      "cell_type": "code",
      "source": [
        "# Training Dataset\n",
        "x_train=train_datagen.flow_from_directory('/content/drive/MyDrive/Dataset/training_set',target_size=(64,64), class_mode='categorical',batch_size=900)\n",
        "# Testing Dataset\n",
        "x_test=test_datagen.flow_from_directory('/content/drive/MyDrive/Dataset/test_set',target_size=(64,64), class_mode='categorical',batch_size=900)"
      ],
      "metadata": {
        "id": "HlHErzo7jfpu"
      },
      "execution_count": null,
      "outputs": []
    },
    {
      "cell_type": "markdown",
      "source": [
        "Found 15760 images belonging to 9 classes.\n",
        "Found 2250 images belonging to 9 classes."
      ],
      "metadata": {
        "id": "2By_MkHmkZBt"
      }
    },
    {
      "cell_type": "code",
      "source": [
        "print(\"Len x-train : \", len(x_train))\n",
        "print(\"Len x-test : \", len(x_test))\n"
      ],
      "metadata": {
        "id": "dmzLATW4kbKY"
      },
      "execution_count": null,
      "outputs": []
    },
    {
      "cell_type": "markdown",
      "source": [
        "Len x-train :  18\n",
        "Len x-test :  3"
      ],
      "metadata": {
        "id": "iMI_Hmiakgjp"
      }
    },
    {
      "cell_type": "code",
      "source": [
        "# The Class Indices in Training Dataset\n",
        "x_train.class_indices"
      ],
      "metadata": {
        "id": "iIjcVQTzkhBb"
      },
      "execution_count": null,
      "outputs": []
    },
    {
      "cell_type": "markdown",
      "source": [
        "{'A': 0, 'B': 1, 'C': 2, 'D': 3, 'E': 4, 'F': 5, 'G': 6, 'H': 7, 'I': 8}"
      ],
      "metadata": {
        "id": "QACYBi5pkmjL"
      }
    },
    {
      "cell_type": "markdown",
      "source": [
        "**Model Creation**"
      ],
      "metadata": {
        "id": "XSBxj9mQko30"
      }
    },
    {
      "cell_type": "code",
      "source": [
        "model = Sequential()\n",
        "for i, feat in enumerate(args.conv_f):\n",
        "    if i==0:\n",
        "        model.add(Conv2D(feat, input_shape=x[0].shape, kernel_size=3, padding = 'same',use_bias=False))\n",
        "    else:\n",
        "        model.add(Conv2D(feat, kernel_size=3, padding = 'same',use_bias=False))\n",
        "        model.add(BatchNormalization())\n",
        "        model.add(LeakyReLU(alpha=args.conv_act))\n",
        "        model.add(Conv2D(feat, kernel_size=3, padding = 'same',use_bias=False))\n",
        "        model.add(BatchNormalization())\n",
        "        model.add(LeakyReLU(alpha=args.conv_act))\n",
        "        model.add(Dropout(args.conv_do[i]))"
      ],
      "metadata": {
        "id": "7JUMgR3Zksix"
      },
      "execution_count": null,
      "outputs": []
    },
    {
      "cell_type": "code",
      "source": [
        "model.add(Flatten())\n",
        "\n",
        "#Input code here\n",
        "\n",
        "denseArgs = {'use_bias':False}\n",
        "for i,feat in enumerate(args.dense_f):\n",
        "    model.add(Dense(feat,**denseArgs))\n",
        "    model.add(BatchNormalization())\n",
        "    model.add(LeakyReLU(alpha=args.dense_act))\n",
        "    model.add(Dropout(args.dense_do[i]))\n",
        "model.add(Dense(1))"
      ],
      "metadata": {
        "id": "poHAdXlaktxk"
      },
      "execution_count": null,
      "outputs": []
    },
    {
      "cell_type": "code",
      "source": [
        "# Importing Libraries\n",
        "from tensorflow.keras.models import Sequential\n",
        "from tensorflow.keras.layers import Convolution2D,MaxPooling2D,Flatten,Dense"
      ],
      "metadata": {
        "id": "ggqOIIrzktuK"
      },
      "execution_count": 15,
      "outputs": []
    },
    {
      "cell_type": "code",
      "source": [
        "# Creating Model\n",
        "model=Sequential()"
      ],
      "metadata": {
        "id": "yEQWTNrqktra"
      },
      "execution_count": 16,
      "outputs": []
    },
    {
      "cell_type": "code",
      "source": [
        "# Adding Layers\n",
        "model.add(Convolution2D(32,(3,3),activation='relu',input_shape=(64,64,3)))"
      ],
      "metadata": {
        "id": "FcHzBbe-kto9"
      },
      "execution_count": 17,
      "outputs": []
    },
    {
      "cell_type": "code",
      "source": [
        "model.add(MaxPooling2D(pool_size=(2,2)))"
      ],
      "metadata": {
        "id": "e8KZFLIrktmT"
      },
      "execution_count": 18,
      "outputs": []
    },
    {
      "cell_type": "code",
      "source": [
        "model.add(Flatten())"
      ],
      "metadata": {
        "id": "f7w13Ydvktjf"
      },
      "execution_count": 19,
      "outputs": []
    },
    {
      "cell_type": "code",
      "source": [
        "# Adding Dense Layers\n",
        "model.add(Dense(300,activation='relu'))\n",
        "model.add(Dense(150,activation='relu'))\n",
        "model.add(Dense(9,activation='softmax'))"
      ],
      "metadata": {
        "id": "z1tLu8dRk9s4"
      },
      "execution_count": 20,
      "outputs": []
    }
  ]
}