{
  "nbformat": 4,
  "nbformat_minor": 0,
  "metadata": {
    "colab": {
      "provenance": []
    },
    "kernelspec": {
      "name": "python3",
      "display_name": "Python 3"
    },
    "language_info": {
      "name": "python"
    }
  },
  "cells": [
    {
      "cell_type": "markdown",
      "source": [
        "Import The Required Model Building Libraries"
      ],
      "metadata": {
        "id": "uMO1FSxbtg8g"
      }
    },
    {
      "cell_type": "code",
      "source": [],
      "metadata": {
        "id": "zYFxJgIItxcm"
      },
      "execution_count": null,
      "outputs": []
    },
    {
      "cell_type": "code",
      "source": [
        "#import imagedatagenerator\n",
        "from keras.preprocessing.image import ImageDataGenerator"
      ],
      "metadata": {
        "id": "G9N_GDkmtxZ9"
      },
      "execution_count": 1,
      "outputs": []
    },
    {
      "cell_type": "code",
      "source": [
        "#training datagen\n",
        "train_datagen=ImageDataGenerator(rescale=1./255,shear_range=0.2,zoom_range=0.2,horizontal_flip=True)\n"
      ],
      "metadata": {
        "id": "RzzEykhEtxW0"
      },
      "execution_count": 2,
      "outputs": []
    },
    {
      "cell_type": "code",
      "source": [
        "#testing datagen\n",
        "test_datagen=ImageDataGenerator(rescale=1./255)"
      ],
      "metadata": {
        "id": "5cgZLBrXtxUG"
      },
      "execution_count": 3,
      "outputs": []
    },
    {
      "cell_type": "markdown",
      "source": [
        "IMPORTING tensorflow"
      ],
      "metadata": {
        "id": "TKTGZEH_t6Le"
      }
    },
    {
      "cell_type": "code",
      "source": [
        "import tensorflow as tf\n",
        "import os"
      ],
      "metadata": {
        "id": "H4XIlRnMtxRo"
      },
      "execution_count": 4,
      "outputs": []
    },
    {
      "cell_type": "markdown",
      "source": [
        "Initialize The Model"
      ],
      "metadata": {
        "id": "lov_IFGct_II"
      }
    },
    {
      "cell_type": "code",
      "source": [
        "#create model\n",
        "from keras.models import Sequential\n",
        "from keras.layers import Dense\n",
        "from keras.layers import Convolution2D\n",
        "from keras.layers import MaxPooling2D\n",
        "from keras.layers import Dropout\n",
        "from keras.layers import Flatten \n",
        "from tensorflow.keras.preprocessing.image import ImageDataGenerator\n"
      ],
      "metadata": {
        "id": "xEUnJlnPuCvk"
      },
      "execution_count": 5,
      "outputs": []
    },
    {
      "cell_type": "code",
      "source": [
        "import numpy as np\n",
        "import matplotlib.pyplot as plt #to view graph in colab itself\n",
        "import IPython.display as display\n",
        "from PIL import Image\n",
        "import pathlib"
      ],
      "metadata": {
        "id": "39CNVe86uDOa"
      },
      "execution_count": 6,
      "outputs": []
    },
    {
      "cell_type": "markdown",
      "source": [
        "Unzipping the dataset"
      ],
      "metadata": {
        "id": "ZTuDzmvXvAvT"
      }
    },
    {
      "cell_type": "code",
      "source": [
        "!unzip '/content/drive/MyDrive/dataset/conversation engine for deaf and dumb.zip'"
      ],
      "metadata": {
        "id": "9cxfnmL6vDol"
      },
      "execution_count": null,
      "outputs": []
    },
    {
      "cell_type": "markdown",
      "source": [
        "Applying ImageDataGenerator to training set"
      ],
      "metadata": {
        "id": "fcBQc5Fcvnxt"
      }
    },
    {
      "cell_type": "code",
      "source": [
        "x_train=train_datagen.flow_from_directory('/content/Dataset/training_set',target_size=(64,64),batch_size=200,\n",
        "                                          class_mode='categorical',color_mode=\"grayscale\")"
      ],
      "metadata": {
        "colab": {
          "base_uri": "https://localhost:8080/"
        },
        "id": "7LtOcpd2vua7",
        "outputId": "dbd6f5d7-a8cd-400d-976a-bd625c812117"
      },
      "execution_count": 9,
      "outputs": [
        {
          "output_type": "stream",
          "name": "stdout",
          "text": [
            "Found 15750 images belonging to 9 classes.\n"
          ]
        }
      ]
    },
    {
      "cell_type": "markdown",
      "source": [
        "Applying ImageDataGenerator to test set"
      ],
      "metadata": {
        "id": "ZXzkXt3-vu2O"
      }
    },
    {
      "cell_type": "code",
      "source": [
        "x_test=test_datagen.flow_from_directory('/content/Dataset/test_set',target_size=(64,64),batch_size=200,\n",
        "                                          class_mode='categorical',color_mode=\"grayscale\")\n"
      ],
      "metadata": {
        "colab": {
          "base_uri": "https://localhost:8080/"
        },
        "id": "nGTJcVRav3iD",
        "outputId": "d03f53dd-03a3-4e1d-820b-2c0240e9d2df"
      },
      "execution_count": 10,
      "outputs": [
        {
          "output_type": "stream",
          "name": "stdout",
          "text": [
            "Found 2250 images belonging to 9 classes.\n"
          ]
        }
      ]
    },
    {
      "cell_type": "code",
      "source": [
        "a=len(x_train)\n",
        "b=len(x_test)"
      ],
      "metadata": {
        "id": "nMFZa22jv319"
      },
      "execution_count": 11,
      "outputs": []
    },
    {
      "cell_type": "markdown",
      "source": [
        "Length of training set"
      ],
      "metadata": {
        "id": "z0FR66aXwAT_"
      }
    },
    {
      "cell_type": "code",
      "source": [
        "print(a)"
      ],
      "metadata": {
        "colab": {
          "base_uri": "https://localhost:8080/"
        },
        "id": "iLCqoZDuwCLh",
        "outputId": "899b849c-9a4d-4622-a2cd-08ff12d21a45"
      },
      "execution_count": 12,
      "outputs": [
        {
          "output_type": "stream",
          "name": "stdout",
          "text": [
            "79\n"
          ]
        }
      ]
    },
    {
      "cell_type": "markdown",
      "source": [
        "Length of test set"
      ],
      "metadata": {
        "id": "2SnxFFVhwFRY"
      }
    },
    {
      "cell_type": "code",
      "source": [
        "print(b)"
      ],
      "metadata": {
        "colab": {
          "base_uri": "https://localhost:8080/"
        },
        "id": "bBngo2q9wHy9",
        "outputId": "d57fcfe4-23b1-4263-b45f-1a87a28ece73"
      },
      "execution_count": 13,
      "outputs": [
        {
          "output_type": "stream",
          "name": "stdout",
          "text": [
            "12\n"
          ]
        }
      ]
    },
    {
      "cell_type": "markdown",
      "source": [
        "Add Layers"
      ],
      "metadata": {
        "id": "ddM4dfzowLN-"
      }
    },
    {
      "cell_type": "code",
      "source": [
        "#create model\n",
        "model=Sequential()"
      ],
      "metadata": {
        "id": "m2P302V2wL2Q"
      },
      "execution_count": 14,
      "outputs": []
    },
    {
      "cell_type": "markdown",
      "source": [
        "Add The Convolution Layer"
      ],
      "metadata": {
        "id": "simRxBBWwMP3"
      }
    },
    {
      "cell_type": "code",
      "source": [
        "model.add(Convolution2D(32,(3,3),input_shape=(64,64,1),activation='relu'))\n"
      ],
      "metadata": {
        "id": "8dU9ev4jwMor"
      },
      "execution_count": 16,
      "outputs": []
    },
    {
      "cell_type": "markdown",
      "source": [
        "Add Pooling Layer"
      ],
      "metadata": {
        "id": "fqT1oNDHwNE5"
      }
    },
    {
      "cell_type": "code",
      "source": [
        "model.add(MaxPooling2D(pool_size=(2,2)))"
      ],
      "metadata": {
        "id": "B1dEdZFCwexj"
      },
      "execution_count": 17,
      "outputs": []
    },
    {
      "cell_type": "markdown",
      "source": [
        "Add The Flatten Layer"
      ],
      "metadata": {
        "id": "yoH75jkVwfLb"
      }
    },
    {
      "cell_type": "code",
      "source": [
        "model.add(Flatten())"
      ],
      "metadata": {
        "id": "_mJ7pZqUwmMj"
      },
      "execution_count": 18,
      "outputs": []
    },
    {
      "cell_type": "markdown",
      "source": [
        "Adding The Dense Layers"
      ],
      "metadata": {
        "id": "9tbK4R1kwmqR"
      }
    },
    {
      "cell_type": "code",
      "source": [
        "#1st hidden layer\n",
        "model.add(Dense(units=512,activation='relu'))\n",
        "#2nd hidden layer\n",
        "model.add(Dense(units=261,activation='relu'))"
      ],
      "metadata": {
        "id": "PPmVsewnwsBQ"
      },
      "execution_count": 19,
      "outputs": []
    },
    {
      "cell_type": "code",
      "source": [
        "#output layer\n",
        "model.add(Dense(units=9,activation='softmax'))"
      ],
      "metadata": {
        "id": "YZFX2pr-wsMD"
      },
      "execution_count": 20,
      "outputs": []
    },
    {
      "cell_type": "markdown",
      "source": [
        "Compile The Model"
      ],
      "metadata": {
        "id": "W_w4S2vqwwmK"
      }
    },
    {
      "cell_type": "code",
      "source": [
        "model.compile(loss='categorical_crossentropy',optimizer='adam',metrics=['accuracy'])"
      ],
      "metadata": {
        "id": "jRAq8fYLwy_E"
      },
      "execution_count": 21,
      "outputs": []
    },
    {
      "cell_type": "markdown",
      "source": [
        "Fit The Model"
      ],
      "metadata": {
        "id": "5g_oVyz_wzR4"
      }
    },
    {
      "cell_type": "code",
      "source": [
        "model.fit_generator(x_train,steps_per_epoch=len(x_train),epochs=10,validation_data=x_test,validation_steps=len(x_test))"
      ],
      "metadata": {
        "colab": {
          "base_uri": "https://localhost:8080/"
        },
        "id": "7-gMM9kTw5tO",
        "outputId": "645ddbfa-c44e-4553-8cc0-130cd9ea4e15"
      },
      "execution_count": 22,
      "outputs": [
        {
          "output_type": "stream",
          "name": "stderr",
          "text": [
            "/usr/local/lib/python3.7/dist-packages/ipykernel_launcher.py:1: UserWarning: `Model.fit_generator` is deprecated and will be removed in a future version. Please use `Model.fit`, which supports generators.\n",
            "  \"\"\"Entry point for launching an IPython kernel.\n"
          ]
        },
        {
          "output_type": "stream",
          "name": "stdout",
          "text": [
            "Epoch 1/10\n",
            "79/79 [==============================] - 97s 1s/step - loss: 0.4445 - accuracy: 0.8537 - val_loss: 0.2528 - val_accuracy: 0.9440\n",
            "Epoch 2/10\n",
            "79/79 [==============================] - 92s 1s/step - loss: 0.0645 - accuracy: 0.9827 - val_loss: 0.2258 - val_accuracy: 0.9627\n",
            "Epoch 3/10\n",
            "79/79 [==============================] - 89s 1s/step - loss: 0.0256 - accuracy: 0.9925 - val_loss: 0.2369 - val_accuracy: 0.9707\n",
            "Epoch 4/10\n",
            "79/79 [==============================] - 86s 1s/step - loss: 0.0107 - accuracy: 0.9975 - val_loss: 0.2181 - val_accuracy: 0.9751\n",
            "Epoch 5/10\n",
            "79/79 [==============================] - 89s 1s/step - loss: 0.0102 - accuracy: 0.9971 - val_loss: 0.2424 - val_accuracy: 0.9764\n",
            "Epoch 6/10\n",
            "79/79 [==============================] - 85s 1s/step - loss: 0.0051 - accuracy: 0.9987 - val_loss: 0.2771 - val_accuracy: 0.9760\n",
            "Epoch 7/10\n",
            "79/79 [==============================] - 88s 1s/step - loss: 0.0050 - accuracy: 0.9987 - val_loss: 0.2971 - val_accuracy: 0.9724\n",
            "Epoch 8/10\n",
            "79/79 [==============================] - 87s 1s/step - loss: 0.0070 - accuracy: 0.9977 - val_loss: 0.2617 - val_accuracy: 0.9756\n",
            "Epoch 9/10\n",
            "79/79 [==============================] - 88s 1s/step - loss: 0.0022 - accuracy: 0.9993 - val_loss: 0.2976 - val_accuracy: 0.9764\n",
            "Epoch 10/10\n",
            "79/79 [==============================] - 89s 1s/step - loss: 0.0103 - accuracy: 0.9966 - val_loss: 0.2181 - val_accuracy: 0.9760\n"
          ]
        },
        {
          "output_type": "execute_result",
          "data": {
            "text/plain": [
              "<keras.callbacks.History at 0x7f3ef6336c90>"
            ]
          },
          "metadata": {},
          "execution_count": 22
        }
      ]
    },
    {
      "cell_type": "markdown",
      "source": [
        "Save The Model"
      ],
      "metadata": {
        "id": "wusyjXNKw-s2"
      }
    },
    {
      "cell_type": "code",
      "source": [
        "model.save('aslpng2.h5')"
      ],
      "metadata": {
        "id": "O6AVimS-xBMS"
      },
      "execution_count": null,
      "outputs": []
    },
    {
      "cell_type": "markdown",
      "source": [
        "Import The Packages And Load The Saved Model"
      ],
      "metadata": {
        "id": "szB6YrPzxDVq"
      }
    },
    {
      "cell_type": "code",
      "source": [
        "from tensorflow.keras.models import load_model\n",
        "import numpy as np\n",
        "import cv2\n",
        "from tensorflow.keras.preprocessing import image\n"
      ],
      "metadata": {
        "id": "iFBFtGIfxH7D"
      },
      "execution_count": 23,
      "outputs": []
    },
    {
      "cell_type": "code",
      "source": [
        "#load the model\n",
        "model=load_model('aslpng2.h5')"
      ],
      "metadata": {
        "id": "cy1-uXbjxI0H"
      },
      "execution_count": null,
      "outputs": []
    },
    {
      "cell_type": "code",
      "source": [
        "img=image.load_img('/content/Dataset/test_set/A/10.png',target_size=(400,500))\n",
        "img"
      ],
      "metadata": {
        "colab": {
          "base_uri": "https://localhost:8080/",
          "height": 417
        },
        "id": "FBlWpaXIxIUg",
        "outputId": "176b5713-4faf-41b2-b752-8314014ef804"
      },
      "execution_count": 25,
      "outputs": [
        {
          "output_type": "execute_result",
          "data": {
            "text/plain": [
              "<PIL.Image.Image image mode=RGB size=500x400 at 0x7F3EEE14A910>"
            ],
            "image/png": "[encoded data removed]"
          },
          "metadata": {},
          "execution_count": 25
        }
      ]
    }
  ]
}